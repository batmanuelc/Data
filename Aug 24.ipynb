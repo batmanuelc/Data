{
 "cells": [
  {
   "cell_type": "markdown",
   "id": "a0163863",
   "metadata": {},
   "source": [
    "## Descriptive Statistics"
   ]
  },
  {
   "cell_type": "code",
   "execution_count": 14,
   "id": "2fbfed72",
   "metadata": {},
   "outputs": [
    {
     "name": "stdout",
     "output_type": "stream",
     "text": [
      "Descriptive Statistics\n",
      "Mean: 5.76\n",
      "Mode: 5\n",
      "Median: 5\n",
      "Range: 8\n",
      "Sample Data Variance: 5.36\n",
      "Population Variance: 5.14\n",
      "Sample Data Standard Deviation: 2.31\n",
      "Population Standard Deviation: 2.27\n"
     ]
    }
   ],
   "source": [
    "import statistics\n",
    "import array as arr\n",
    "\n",
    "friends_usage = [5,4,3,5,8,2,5,2,5,8,10,8,7,9,10,5,7,5,7,5,4,3,5,8,4]\n",
    "\n",
    "sample_data = arr.array('i', friends_usage)\n",
    "dataset = sample_data[0:25]\n",
    "sample_data_list = dataset.tolist()\n",
    "\n",
    "mean = statistics.mean(friends_usage)\n",
    "mode = statistics.mode(friends_usage)\n",
    "median = statistics.median(friends_usage)\n",
    "pstdev = round(statistics.pstdev(friends_usage),2)\n",
    "pvariance = round(statistics.pvariance(friends_usage),2)\n",
    "srange = (max(friends_usage) - min(friends_usage))\n",
    "\n",
    "variance = round(statistics.variance(sample_data_list),2)\n",
    "stdev = round(statistics.stdev(sample_data_list),2)\n",
    "\n",
    "print(\"Descriptive Statistics\")\n",
    "print(\"Mean:\",mean)\n",
    "print(\"Mode:\",mode)\n",
    "print(\"Median:\",median)\n",
    "print(\"Range:\",srange)\n",
    "print(\"Sample Data Variance:\",variance)\n",
    "print(\"Population Variance:\",pvariance)\n",
    "print(\"Sample Data Standard Deviation:\",stdev)\n",
    "print(\"Population Standard Deviation:\",pstdev)"
   ]
  },
  {
   "cell_type": "code",
   "execution_count": null,
   "id": "cb9e55a3",
   "metadata": {},
   "outputs": [],
   "source": []
  }
 ],
 "metadata": {
  "kernelspec": {
   "display_name": "Python 3 (ipykernel)",
   "language": "python",
   "name": "python3"
  },
  "language_info": {
   "codemirror_mode": {
    "name": "ipython",
    "version": 3
   },
   "file_extension": ".py",
   "mimetype": "text/x-python",
   "name": "python",
   "nbconvert_exporter": "python",
   "pygments_lexer": "ipython3",
   "version": "3.10.4"
  }
 },
 "nbformat": 4,
 "nbformat_minor": 5
}
