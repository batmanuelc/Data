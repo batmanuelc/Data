{
 "cells": [
  {
   "cell_type": "markdown",
   "id": "843936bf",
   "metadata": {},
   "source": [
    "## 3.8 Coding Exercise -- August 24"
   ]
  },
  {
   "cell_type": "markdown",
   "id": "0baca3ee",
   "metadata": {},
   "source": [
    "Using Numpy's statistical methods, find and display the Mean, Mode, Median, Variance, Standard Deviation, and Range."
   ]
  },
  {
   "cell_type": "code",
   "execution_count": 2,
   "id": "1152023a",
   "metadata": {},
   "outputs": [
    {
     "name": "stdout",
     "output_type": "stream",
     "text": [
      "Mean: 151.3\n",
      "Mode: ModeResult(mode=array([103]), count=array([1]))\n",
      "Median: 157.0\n",
      "Sample Data Variance: 1076.7\n",
      "Sample Data Standard Deviation: 33\n",
      "Range: 85\n"
     ]
    }
   ],
   "source": [
    "import numpy as np\n",
    "import array as arr\n",
    "from scipy import stats\n",
    "\n",
    "p_data = [103,151,176,188,146,184,175,112,115,163]\n",
    "\n",
    "def display_stat():\n",
    "    print(\"Mean:\",mean)\n",
    "    print(\"Mode:\",mode)\n",
    "    print(\"Median:\",median)\n",
    "    print(\"Sample Data Variance:\",variance)\n",
    "    print(\"Sample Data Standard Deviation:\",stdev)\n",
    "    print(\"Range:\",srange)\n",
    "    \n",
    "mean = np.mean(p_data)\n",
    "median = np.median(p_data)\n",
    "pvariance = round(np.var(p_data),2)\n",
    "pstdev = round(np.std(p_data),2)\n",
    "\n",
    "srange = np.ptp(p_data)\n",
    "mode = stats.mode(p_data)\n",
    "\n",
    "sample_data = arr.array('i', p_data)\n",
    "dataset = sample_data[0:5]\n",
    "p_data = dataset.tolist()\n",
    "\n",
    "variance = round(np.var(p_data, ddof=1),2)\n",
    "stdev = round(np.std(p_data, ddof=1))\n",
    "\n",
    "display_stat()"
   ]
  },
  {
   "cell_type": "code",
   "execution_count": 3,
   "id": "c13f1ff5",
   "metadata": {},
   "outputs": [
    {
     "name": "stdout",
     "output_type": "stream",
     "text": [
      "Mean: 151.3\n",
      "Mode: ModeResult(mode=array([103]), count=array([1]))\n",
      "Median: 157.0\n",
      "Sample Data Variance: 994.23\n",
      "Sample Data Standard Deviation: 31.53\n",
      "Range: 85\n"
     ]
    }
   ],
   "source": [
    "import numpy as np\n",
    "from scipy import stats\n",
    "\n",
    "p_data = [103,151,176,188,146,184,175,112,115,163]\n",
    "\n",
    "def display_stat():\n",
    "    print(\"Mean:\",mean)\n",
    "    print(\"Mode:\",mode)\n",
    "    print(\"Median:\",median)\n",
    "    print(\"Sample Data Variance:\",variance)\n",
    "    print(\"Sample Data Standard Deviation:\",stdev)\n",
    "    print(\"Range:\",srange)\n",
    "    \n",
    "mean = np.mean(p_data)\n",
    "median = np.median(p_data)\n",
    "mode = stats.mode(p_data)\n",
    "variance = round(np.var(p_data, ddof=1),2)\n",
    "stdev = round(np.std(p_data, ddof=1),2)\n",
    "srange = np.ptp(p_data)\n",
    "\n",
    "\n",
    "display_stat()"
   ]
  },
  {
   "cell_type": "code",
   "execution_count": null,
   "id": "0fee0d16",
   "metadata": {},
   "outputs": [],
   "source": []
  }
 ],
 "metadata": {
  "kernelspec": {
   "display_name": "Python 3 (ipykernel)",
   "language": "python",
   "name": "python3"
  },
  "language_info": {
   "codemirror_mode": {
    "name": "ipython",
    "version": 3
   },
   "file_extension": ".py",
   "mimetype": "text/x-python",
   "name": "python",
   "nbconvert_exporter": "python",
   "pygments_lexer": "ipython3",
   "version": "3.10.4"
  }
 },
 "nbformat": 4,
 "nbformat_minor": 5
}
