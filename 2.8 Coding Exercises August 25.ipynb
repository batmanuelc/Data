{
 "cells": [
  {
   "cell_type": "markdown",
   "id": "bb3aea34",
   "metadata": {},
   "source": [
    "## 2.8 Coding Exercises August 25"
   ]
  },
  {
   "cell_type": "markdown",
   "id": "f0cb4810",
   "metadata": {},
   "source": [
    "Write a function that will get your average online buys for the past 5 weeks."
   ]
  },
  {
   "cell_type": "code",
   "execution_count": 1,
   "id": "b87f111d",
   "metadata": {},
   "outputs": [
    {
     "name": "stdout",
     "output_type": "stream",
     "text": [
      "The mean of this list is 20.6\n"
     ]
    }
   ],
   "source": [
    "def get_mean(ave):\n",
    "    print(\"The mean of this list is\", ave)\n",
    "    \n",
    "n_num=[19, 27, 17, 24, 16]\n",
    "n=len(n_num)\n",
    "\n",
    "get_sum=sum(n_num)\n",
    "mean=get_sum/n\n",
    "\n",
    "m=str(mean)\n",
    "\n",
    "get_mean(m)"
   ]
  },
  {
   "cell_type": "code",
   "execution_count": null,
   "id": "20176d36",
   "metadata": {},
   "outputs": [],
   "source": []
  }
 ],
 "metadata": {
  "kernelspec": {
   "display_name": "Python 3 (ipykernel)",
   "language": "python",
   "name": "python3"
  },
  "language_info": {
   "codemirror_mode": {
    "name": "ipython",
    "version": 3
   },
   "file_extension": ".py",
   "mimetype": "text/x-python",
   "name": "python",
   "nbconvert_exporter": "python",
   "pygments_lexer": "ipython3",
   "version": "3.10.4"
  }
 },
 "nbformat": 4,
 "nbformat_minor": 5
}
