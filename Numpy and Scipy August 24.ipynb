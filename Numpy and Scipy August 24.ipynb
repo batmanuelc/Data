{
 "cells": [
  {
   "cell_type": "markdown",
   "id": "00882e93",
   "metadata": {},
   "source": [
    "## Numpy and Scipy Statistics"
   ]
  },
  {
   "cell_type": "code",
   "execution_count": 5,
   "id": "1783043e",
   "metadata": {},
   "outputs": [
    {
     "name": "stdout",
     "output_type": "stream",
     "text": [
      "Mean: 5.76\n",
      "Mode: ModeResult(mode=array([5]), count=array([8]))\n",
      "Median: 5.0\n",
      "Range: 8\n",
      "Sample Data Variance: 5.36\n",
      "Sample Data Standard Deviation: 2\n",
      "Population Variance: 2.8\n",
      "Population Standard Deviation: 1.67\n"
     ]
    }
   ],
   "source": [
    "import numpy as np\n",
    "import array as arr\n",
    "from scipy import stats\n",
    "\n",
    "f_usage = [5,4,3,5,8,2,5,2,5,8,10,8,7,9,10,5,7,5,7,5,4,3,5,8,4]\n",
    "\n",
    "def display_stat():\n",
    "    print(\"Mean:\",mean)\n",
    "    print(\"Mode:\",mode)\n",
    "    print(\"Median:\",median)\n",
    "    print(\"Range:\",srange)\n",
    "    print(\"Sample Data Variance:\",variance)\n",
    "    print(\"Sample Data Standard Deviation:\",stdev)\n",
    "    print(\"Population Variance:\",pvariance)\n",
    "    print(\"Population Standard Deviation:\",pstdev)\n",
    "    \n",
    "mean = np.mean(f_usage)\n",
    "mode = stats.mode(f_usage)\n",
    "median = np.median(f_usage)\n",
    "srange = np.ptp(f_usage)\n",
    "variance = round(np.var(f_usage, ddof=1),2)\n",
    "stdev = round(np.std(f_usage, ddof=1))\n",
    "\n",
    "sample_data = arr.array('i', f_usage)\n",
    "dataset = sample_data[0:5]\n",
    "f_usage = dataset.tolist()\n",
    "\n",
    "pvariance = round(np.var(f_usage),2)\n",
    "pstdev = round(np.std(f_usage),2)\n",
    "\n",
    "display_stat()"
   ]
  },
  {
   "cell_type": "code",
   "execution_count": null,
   "id": "67320f05",
   "metadata": {},
   "outputs": [],
   "source": []
  }
 ],
 "metadata": {
  "kernelspec": {
   "display_name": "Python 3 (ipykernel)",
   "language": "python",
   "name": "python3"
  },
  "language_info": {
   "codemirror_mode": {
    "name": "ipython",
    "version": 3
   },
   "file_extension": ".py",
   "mimetype": "text/x-python",
   "name": "python",
   "nbconvert_exporter": "python",
   "pygments_lexer": "ipython3",
   "version": "3.10.4"
  }
 },
 "nbformat": 4,
 "nbformat_minor": 5
}
