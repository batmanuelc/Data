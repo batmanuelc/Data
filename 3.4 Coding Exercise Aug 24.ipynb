{
 "cells": [
  {
   "cell_type": "markdown",
   "id": "3d78d0d7",
   "metadata": {},
   "source": [
    "## Coding Exercises 3.4 -- August 24"
   ]
  },
  {
   "cell_type": "markdown",
   "id": "686130a4",
   "metadata": {},
   "source": [
    "Get the average score, \n",
    "the most frequent score, and \n",
    "the median or middle score."
   ]
  },
  {
   "cell_type": "code",
   "execution_count": 4,
   "id": "b9f36b2b",
   "metadata": {},
   "outputs": [
    {
     "name": "stdout",
     "output_type": "stream",
     "text": [
      "Mrs. Santos class final test scores\n",
      "Mean: 85.75\n",
      "Mode: 85\n",
      "Median: 86.0\n"
     ]
    }
   ],
   "source": [
    "import statistics\n",
    "\n",
    "scores = [89,90,91,90,85,91,88,80,77,81,76,85,87,88,83,95,88,82,85,84]\n",
    "\n",
    "mean = statistics.mean(scores)\n",
    "mode = statistics.mode(scores)\n",
    "median = statistics.median(scores)\n",
    "\n",
    "print(\"Mrs. Santos class final test scores\")\n",
    "print(\"Mean:\",mean)\n",
    "print(\"Mode:\",mode)\n",
    "print(\"Median:\",median)"
   ]
  }
 ],
 "metadata": {
  "kernelspec": {
   "display_name": "Python 3 (ipykernel)",
   "language": "python",
   "name": "python3"
  },
  "language_info": {
   "codemirror_mode": {
    "name": "ipython",
    "version": 3
   },
   "file_extension": ".py",
   "mimetype": "text/x-python",
   "name": "python",
   "nbconvert_exporter": "python",
   "pygments_lexer": "ipython3",
   "version": "3.10.4"
  }
 },
 "nbformat": 4,
 "nbformat_minor": 5
}
